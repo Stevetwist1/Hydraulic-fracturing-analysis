{
 "cells": [
  {
   "cell_type": "code",
   "execution_count": 1,
   "id": "c0f7c09e",
   "metadata": {},
   "outputs": [],
   "source": [
    "import numpy as np\n",
    "import pandas as pd\n",
    "import matplotlib.pyplot as plt\n",
    "%matplotlib inline"
   ]
  },
  {
   "cell_type": "code",
   "execution_count": 37,
   "id": "ca7b6704",
   "metadata": {},
   "outputs": [],
   "source": [
    "Pi = 5000 #psi\n",
    "\n",
    "q = 2000 #stb/d\n",
    "\n",
    "h = 50 #ft\n",
    "\n",
    "phi = 0.24\n",
    "\n",
    "ct = 14.8E-6\n",
    "\n",
    "Bo = 1.5 #rb/stb\n",
    "\n",
    "mu = 0.3 #cp, oil\n",
    "\n",
    "rw = 0.29 #ft"
   ]
  },
  {
   "cell_type": "code",
   "execution_count": 32,
   "id": "d684d184",
   "metadata": {},
   "outputs": [],
   "source": [
    "df = pd.read_csv('/Users/steveadjorlolo/Desktop/Data.csv')"
   ]
  },
  {
   "cell_type": "code",
   "execution_count": 33,
   "id": "a0adc516",
   "metadata": {},
   "outputs": [],
   "source": [
    "df['t_1/2'] = np.sqrt(df['t'])\n",
    "df['t_1/4'] = np.sqrt(df['t_1/2'])"
   ]
  },
  {
   "cell_type": "code",
   "execution_count": 34,
   "id": "ee71d5ed",
   "metadata": {},
   "outputs": [
    {
     "data": {
      "text/html": [
       "<div>\n",
       "<style scoped>\n",
       "    .dataframe tbody tr th:only-of-type {\n",
       "        vertical-align: middle;\n",
       "    }\n",
       "\n",
       "    .dataframe tbody tr th {\n",
       "        vertical-align: top;\n",
       "    }\n",
       "\n",
       "    .dataframe thead th {\n",
       "        text-align: right;\n",
       "    }\n",
       "</style>\n",
       "<table border=\"1\" class=\"dataframe\">\n",
       "  <thead>\n",
       "    <tr style=\"text-align: right;\">\n",
       "      <th></th>\n",
       "      <th>t</th>\n",
       "      <th>FBHP(psia)</th>\n",
       "      <th>t_1/2</th>\n",
       "      <th>t_1/4</th>\n",
       "    </tr>\n",
       "  </thead>\n",
       "  <tbody>\n",
       "    <tr>\n",
       "      <th>0</th>\n",
       "      <td>0.00000</td>\n",
       "      <td>5000.00</td>\n",
       "      <td>0.000000</td>\n",
       "      <td>0.000000</td>\n",
       "    </tr>\n",
       "    <tr>\n",
       "      <th>1</th>\n",
       "      <td>0.01002</td>\n",
       "      <td>4980.61</td>\n",
       "      <td>0.100100</td>\n",
       "      <td>0.316386</td>\n",
       "    </tr>\n",
       "    <tr>\n",
       "      <th>2</th>\n",
       "      <td>0.01209</td>\n",
       "      <td>4978.68</td>\n",
       "      <td>0.109955</td>\n",
       "      <td>0.331594</td>\n",
       "    </tr>\n",
       "    <tr>\n",
       "      <th>3</th>\n",
       "      <td>0.01420</td>\n",
       "      <td>4976.57</td>\n",
       "      <td>0.119164</td>\n",
       "      <td>0.345201</td>\n",
       "    </tr>\n",
       "    <tr>\n",
       "      <th>4</th>\n",
       "      <td>0.01730</td>\n",
       "      <td>4974.24</td>\n",
       "      <td>0.131529</td>\n",
       "      <td>0.362670</td>\n",
       "    </tr>\n",
       "  </tbody>\n",
       "</table>\n",
       "</div>"
      ],
      "text/plain": [
       "         t  FBHP(psia)     t_1/2     t_1/4\n",
       "0  0.00000     5000.00  0.000000  0.000000\n",
       "1  0.01002     4980.61  0.100100  0.316386\n",
       "2  0.01209     4978.68  0.109955  0.331594\n",
       "3  0.01420     4976.57  0.119164  0.345201\n",
       "4  0.01730     4974.24  0.131529  0.362670"
      ]
     },
     "execution_count": 34,
     "metadata": {},
     "output_type": "execute_result"
    }
   ],
   "source": [
    "df.head()"
   ]
  },
  {
   "cell_type": "code",
   "execution_count": 38,
   "id": "2c0e666f",
   "metadata": {},
   "outputs": [
    {
     "data": {
      "text/plain": [
       "[<matplotlib.lines.Line2D at 0x7fc3deb0cd00>]"
      ]
     },
     "execution_count": 38,
     "metadata": {},
     "output_type": "execute_result"
    },
    {
     "data": {
      "image/png": "[encoded data removed]",
      "text/plain": [
       "<Figure size 432x288 with 1 Axes>"
      ]
     },
     "metadata": {
      "needs_background": "light"
     },
     "output_type": "display_data"
    }
   ],
   "source": [
    "plt.plot(df['t_1/2'] , df['FBHP(psia)'])\n",
    "plt.plot(df['t_1/4'] , df['FBHP(psia)'])"
   ]
  },
  {
   "cell_type": "code",
   "execution_count": 39,
   "id": "442594e1",
   "metadata": {},
   "outputs": [],
   "source": [
    "df['dP'] = np.zeros(len(df))\n",
    "df['dt'] = np.zeros(len(df))"
   ]
  },
  {
   "cell_type": "code",
   "execution_count": 40,
   "id": "5a5b3665",
   "metadata": {},
   "outputs": [],
   "source": [
    "df['dP'] = Pi - df['FBHP(psia)']"
   ]
  },
  {
   "cell_type": "code",
   "execution_count": 42,
   "id": "a83f2d4c",
   "metadata": {},
   "outputs": [],
   "source": [
    "df['dt'].loc[1:] =df['t'].diff()"
   ]
  },
  {
   "cell_type": "code",
   "execution_count": 43,
   "id": "f691cdad",
   "metadata": {},
   "outputs": [],
   "source": [
    "df['d(dP)'] = np.zeros(len(df))\n",
    "\n",
    "df['d(dP)'].loc[1:] = df['dP'].diff()\n",
    "\n",
    "df['t*d(dP)/dt'] = np.zeros(len(df))"
   ]
  },
  {
   "cell_type": "code",
   "execution_count": 44,
   "id": "b3bc7a68",
   "metadata": {},
   "outputs": [],
   "source": [
    "df['t*d(dP)/dt'].loc[1:] = df['d(dP)']*df['t']/df['dt']"
   ]
  },
  {
   "cell_type": "code",
   "execution_count": 46,
   "id": "73e0cb9b",
   "metadata": {},
   "outputs": [
    {
     "data": {
      "text/html": [
       "<div>\n",
       "<style scoped>\n",
       "    .dataframe tbody tr th:only-of-type {\n",
       "        vertical-align: middle;\n",
       "    }\n",
       "\n",
       "    .dataframe tbody tr th {\n",
       "        vertical-align: top;\n",
       "    }\n",
       "\n",
       "    .dataframe thead th {\n",
       "        text-align: right;\n",
       "    }\n",
       "</style>\n",
       "<table border=\"1\" class=\"dataframe\">\n",
       "  <thead>\n",
       "    <tr style=\"text-align: right;\">\n",
       "      <th></th>\n",
       "      <th>t</th>\n",
       "      <th>FBHP(psia)</th>\n",
       "      <th>t_1/2</th>\n",
       "      <th>t_1/4</th>\n",
       "      <th>dP</th>\n",
       "      <th>dt</th>\n",
       "      <th>d(dP)</th>\n",
       "      <th>t*d(dP)/dt</th>\n",
       "    </tr>\n",
       "  </thead>\n",
       "  <tbody>\n",
       "    <tr>\n",
       "      <th>0</th>\n",
       "      <td>0.00000</td>\n",
       "      <td>5000.00</td>\n",
       "      <td>0.000000</td>\n",
       "      <td>0.000000</td>\n",
       "      <td>0.00</td>\n",
       "      <td>0.00000</td>\n",
       "      <td>0.00</td>\n",
       "      <td>0.000000</td>\n",
       "    </tr>\n",
       "    <tr>\n",
       "      <th>1</th>\n",
       "      <td>0.01002</td>\n",
       "      <td>4980.61</td>\n",
       "      <td>0.100100</td>\n",
       "      <td>0.316386</td>\n",
       "      <td>19.39</td>\n",
       "      <td>0.01002</td>\n",
       "      <td>19.39</td>\n",
       "      <td>19.390000</td>\n",
       "    </tr>\n",
       "    <tr>\n",
       "      <th>2</th>\n",
       "      <td>0.01209</td>\n",
       "      <td>4978.68</td>\n",
       "      <td>0.109955</td>\n",
       "      <td>0.331594</td>\n",
       "      <td>21.32</td>\n",
       "      <td>0.00207</td>\n",
       "      <td>1.93</td>\n",
       "      <td>11.272319</td>\n",
       "    </tr>\n",
       "    <tr>\n",
       "      <th>3</th>\n",
       "      <td>0.01420</td>\n",
       "      <td>4976.57</td>\n",
       "      <td>0.119164</td>\n",
       "      <td>0.345201</td>\n",
       "      <td>23.43</td>\n",
       "      <td>0.00211</td>\n",
       "      <td>2.11</td>\n",
       "      <td>14.200000</td>\n",
       "    </tr>\n",
       "    <tr>\n",
       "      <th>4</th>\n",
       "      <td>0.01730</td>\n",
       "      <td>4974.24</td>\n",
       "      <td>0.131529</td>\n",
       "      <td>0.362670</td>\n",
       "      <td>25.76</td>\n",
       "      <td>0.00310</td>\n",
       "      <td>2.33</td>\n",
       "      <td>13.002903</td>\n",
       "    </tr>\n",
       "    <tr>\n",
       "      <th>5</th>\n",
       "      <td>0.02090</td>\n",
       "      <td>4971.98</td>\n",
       "      <td>0.144568</td>\n",
       "      <td>0.380221</td>\n",
       "      <td>28.02</td>\n",
       "      <td>0.00360</td>\n",
       "      <td>2.26</td>\n",
       "      <td>13.120556</td>\n",
       "    </tr>\n",
       "    <tr>\n",
       "      <th>6</th>\n",
       "      <td>0.02520</td>\n",
       "      <td>4969.20</td>\n",
       "      <td>0.158745</td>\n",
       "      <td>0.398428</td>\n",
       "      <td>30.80</td>\n",
       "      <td>0.00430</td>\n",
       "      <td>2.78</td>\n",
       "      <td>16.292093</td>\n",
       "    </tr>\n",
       "    <tr>\n",
       "      <th>7</th>\n",
       "      <td>0.03080</td>\n",
       "      <td>4966.14</td>\n",
       "      <td>0.175499</td>\n",
       "      <td>0.418926</td>\n",
       "      <td>33.86</td>\n",
       "      <td>0.00560</td>\n",
       "      <td>3.06</td>\n",
       "      <td>16.830000</td>\n",
       "    </tr>\n",
       "    <tr>\n",
       "      <th>8</th>\n",
       "      <td>0.03680</td>\n",
       "      <td>4963.17</td>\n",
       "      <td>0.191833</td>\n",
       "      <td>0.437988</td>\n",
       "      <td>36.83</td>\n",
       "      <td>0.00600</td>\n",
       "      <td>2.97</td>\n",
       "      <td>18.216000</td>\n",
       "    </tr>\n",
       "    <tr>\n",
       "      <th>9</th>\n",
       "      <td>0.04360</td>\n",
       "      <td>4959.52</td>\n",
       "      <td>0.208806</td>\n",
       "      <td>0.456953</td>\n",
       "      <td>40.48</td>\n",
       "      <td>0.00680</td>\n",
       "      <td>3.65</td>\n",
       "      <td>23.402941</td>\n",
       "    </tr>\n",
       "  </tbody>\n",
       "</table>\n",
       "</div>"
      ],
      "text/plain": [
       "         t  FBHP(psia)     t_1/2     t_1/4     dP       dt  d(dP)  t*d(dP)/dt\n",
       "0  0.00000     5000.00  0.000000  0.000000   0.00  0.00000   0.00    0.000000\n",
       "1  0.01002     4980.61  0.100100  0.316386  19.39  0.01002  19.39   19.390000\n",
       "2  0.01209     4978.68  0.109955  0.331594  21.32  0.00207   1.93   11.272319\n",
       "3  0.01420     4976.57  0.119164  0.345201  23.43  0.00211   2.11   14.200000\n",
       "4  0.01730     4974.24  0.131529  0.362670  25.76  0.00310   2.33   13.002903\n",
       "5  0.02090     4971.98  0.144568  0.380221  28.02  0.00360   2.26   13.120556\n",
       "6  0.02520     4969.20  0.158745  0.398428  30.80  0.00430   2.78   16.292093\n",
       "7  0.03080     4966.14  0.175499  0.418926  33.86  0.00560   3.06   16.830000\n",
       "8  0.03680     4963.17  0.191833  0.437988  36.83  0.00600   2.97   18.216000\n",
       "9  0.04360     4959.52  0.208806  0.456953  40.48  0.00680   3.65   23.402941"
      ]
     },
     "execution_count": 46,
     "metadata": {},
     "output_type": "execute_result"
    }
   ],
   "source": [
    "df.head(10)"
   ]
  },
  {
   "cell_type": "code",
   "execution_count": 47,
   "id": "0191ed7a",
   "metadata": {},
   "outputs": [
    {
     "data": {
      "image/png": "[encoded data removed]",
      "text/plain": [
       "<Figure size 864x360 with 1 Axes>"
      ]
     },
     "metadata": {
      "needs_background": "light"
     },
     "output_type": "display_data"
    }
   ],
   "source": [
    "plt.figure(figsize=(12,5))\n",
    "plt.style.use('default')\n",
    "\n",
    "plt.loglog(df['t'], df['t*d(dP)/dt'],linewidth=2, marker='o', label = 'Derivative')\n",
    "plt.loglog(df['t'], df['dP'],linewidth=2, marker='o',label='Del(P)')\n",
    "\n",
    "plt.axhline(y=100, color='green',linewidth=3, label='IARF Reference')\n",
    "\n",
    "plt.title('Log-Log plot for a Hydraulic-Fractured Well')\n",
    "\n",
    "plt.xlabel('time(hours)')\n",
    "plt.ylabel('Pressure Related Axis')\n",
    "\n",
    "plt.legend(loc='best')\n",
    "\n",
    "\n",
    "plt.grid()\n"
   ]
  },
  {
   "cell_type": "code",
   "execution_count": 48,
   "id": "f731ba53",
   "metadata": {},
   "outputs": [],
   "source": [
    "# around 0.1 to 100 hours, we have a good scene to plot conventional.\n",
    "#Radial flow around y = 100 value\n",
    "#Linear flow around 0.1 to 1 hour"
   ]
  },
  {
   "cell_type": "code",
   "execution_count": 49,
   "id": "a79e7e77",
   "metadata": {},
   "outputs": [
    {
     "name": "stdout",
     "output_type": "stream",
     "text": [
      "The Permeability of un-altered Reservoir is : 12.708 mD!\n"
     ]
    }
   ],
   "source": [
    "#Finding K from the radial flow regime\n",
    "#100 = 70.6*q*mu*B/kh\n",
    "\n",
    "k = 70.6*q*mu*Bo/100/h\n",
    "\n",
    "print(f'The Permeability of un-altered Reservoir is : {k} mD!')"
   ]
  },
  {
   "cell_type": "code",
   "execution_count": 112,
   "id": "013a6f58",
   "metadata": {},
   "outputs": [],
   "source": [
    "#Finding the fracure Half length\n",
    "\n",
    "hf = df[(df['t']>0.1) & (df['t']<1)][['t_1/2','FBHP(psia)']]\n",
    "\n",
    "c , m = np.polyfit(hf['t_1/2'] , hf['FBHP(psia)'] , 1)\n"
   ]
  },
  {
   "cell_type": "code",
   "execution_count": 113,
   "id": "e7414c8c",
   "metadata": {},
   "outputs": [],
   "source": [
    "x = hf['t_1/2']\n",
    "\n",
    "y =c*x + m\n"
   ]
  },
  {
   "cell_type": "code",
   "execution_count": 114,
   "id": "927cb949",
   "metadata": {},
   "outputs": [
    {
     "data": {
      "text/plain": [
       "<matplotlib.legend.Legend at 0x7fc3cc123d00>"
      ]
     },
     "execution_count": 114,
     "metadata": {},
     "output_type": "execute_result"
    },
    {
     "data": {
      "image/png": "[encoded data removed]",
      "text/plain": [
       "<Figure size 640x480 with 1 Axes>"
      ]
     },
     "metadata": {},
     "output_type": "display_data"
    }
   ],
   "source": [
    "plt.plot(hf['t_1/2'], hf['FBHP(psia)'], marker='o', label='Field Data')\n",
    "plt.plot(x,y,label='Theoritical Estimate')\n",
    "\n",
    "plt.grid()\n",
    "\n",
    "plt.title('Pwf v/s t^1/2')\n",
    "plt.xlabel('t^1/2')\n",
    "plt.ylabel('Pwf(Psia)')\n",
    "\n",
    "plt.legend(loc='best')\n"
   ]
  },
  {
   "cell_type": "code",
   "execution_count": 115,
   "id": "51397fcf",
   "metadata": {},
   "outputs": [],
   "source": [
    "c , m = np.polyfit(hf['t_1/2'] , hf['FBHP(psia)'] , 1)"
   ]
  },
  {
   "cell_type": "code",
   "execution_count": 116,
   "id": "a85d8f1f",
   "metadata": {},
   "outputs": [
    {
     "data": {
      "text/plain": [
       "(-140.2031328640003, 4982.259877030022)"
      ]
     },
     "execution_count": 116,
     "metadata": {},
     "output_type": "execute_result"
    }
   ],
   "source": [
    "c, m"
   ]
  },
  {
   "cell_type": "code",
   "execution_count": 117,
   "id": "c6f010d9",
   "metadata": {},
   "outputs": [],
   "source": [
    "# The slope gives Fracture Half length.\n",
    "\n",
    "xf =(-1)*(4.06*q*Bo/(h*c))*np.sqrt(mu/k/phi/ct)"
   ]
  },
  {
   "cell_type": "code",
   "execution_count": 118,
   "id": "6c0375d3",
   "metadata": {},
   "outputs": [
    {
     "name": "stdout",
     "output_type": "stream",
     "text": [
      "RESULTS of Analysis:\n",
      "\n",
      "1. Permeability of unaltered formation : 12.708 mD.\n",
      "\n",
      "2. Fracture Half Length : 141.6462598634771 ft.\n"
     ]
    }
   ],
   "source": [
    "print('RESULTS of Analysis:\\n')\n",
    "print(f'1. Permeability of unaltered formation : {k} mD.\\n')\n",
    "print(f'2. Fracture Half Length : {xf} ft.')"
   ]
  },
  {
   "cell_type": "code",
   "execution_count": null,
   "id": "45fa3f6f",
   "metadata": {},
   "outputs": [],
   "source": [
    "#RESULTS of Analysis:\n",
    "\n",
    "#1. Permeability of unaltered formation : 12.708 mD.\n",
    "\n",
    "#2. Fracture Half Length : 141.64625986347212 ft."
   ]
  }
 ],
 "metadata": {
  "kernelspec": {
   "display_name": "Python 3 (ipykernel)",
   "language": "python",
   "name": "python3"
  },
  "language_info": {
   "codemirror_mode": {
    "name": "ipython",
    "version": 3
   },
   "file_extension": ".py",
   "mimetype": "text/x-python",
   "name": "python",
   "nbconvert_exporter": "python",
   "pygments_lexer": "ipython3",
   "version": "3.9.7"
  }
 },
 "nbformat": 4,
 "nbformat_minor": 5
}
